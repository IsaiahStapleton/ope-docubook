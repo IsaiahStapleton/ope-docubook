{
 "cells": [
  {
   "cell_type": "code",
   "execution_count": null,
   "id": "63d3cccf",
   "metadata": {
    "tags": [
     "remove-cell"
    ]
   },
   "outputs": [],
   "source": [
    "%run -i ../python/common.py"
   ]
  },
  {
   "attachments": {},
   "cell_type": "markdown",
   "id": "19e9326c-3dee-4dd9-b3f7-c6d53bd6ac03",
   "metadata": {},
   "source": [
    "# Initial Setup"
   ]
  },
  {
   "attachments": {},
   "cell_type": "markdown",
   "id": "ced895f3",
   "metadata": {},
   "source": [
    "The OPE repository has a branch titled [coursecontenttemplate](https://github.com/OPEFFORT/ope/tree/coursecontenttemplate) that contains everything you need to start creating new OPE textbooks. First start by cloning the repository and then switching to the coursecontenttemplate branch by running the following commands:\n",
    "\n",
    "```shell\n",
    "\n",
    "git clone https://github.com/OPEFFORT/ope.git\n",
    "\n",
    "cd ope\n",
    "\n",
    "git checkout coursecontenttemplate\n",
    "\n",
    "```"
   ]
  }
 ],
 "metadata": {
  "kernelspec": {
   "display_name": "Python 3 (ipykernel)",
   "language": "python",
   "name": "python3"
  },
  "language_info": {
   "codemirror_mode": {
    "name": "ipython",
    "version": 3
   },
   "file_extension": ".py",
   "mimetype": "text/x-python",
   "name": "python",
   "nbconvert_exporter": "python",
   "pygments_lexer": "ipython3",
   "version": "3.9.6"
  }
 },
 "nbformat": 4,
 "nbformat_minor": 5
}
