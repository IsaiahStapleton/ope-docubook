{
 "cells": [
  {
   "cell_type": "code",
   "execution_count": null,
   "metadata": {
    "tags": [
     "remove-cell"
    ]
   },
   "outputs": [],
   "source": [
    "%run -i ../python/common.py\n",
    "bash = BashSession()"
   ]
  },
  {
   "attachments": {},
   "cell_type": "markdown",
   "metadata": {},
   "source": [
    "# Creating Content "
   ]
  },
  {
   "attachments": {},
   "cell_type": "markdown",
   "metadata": {},
   "source": [
    "Now that you understand the layout of the template, you are ready to start creating content for the textbook.\n",
    "\n",
    "As was mentioned previously the xx_toc.yml file is used to specify the files that contain the content of the book. It is recommended to use ipynb format, as that will allow you to utilize the full power of the textbook. At the top of every ipynb file, you should include a code cell with the following line: \n",
    "```\n",
    "%run -i ../python/common.py\n",
    "```\n",
    "This will enable powerful notebook functions such as: displaying a series of slide images, displaying html table, and displaying interactive terminal media player, just to name a few.\n",
    "\n",
    "Add cell tag: 'remove-cell', in order to not have this import cell displayed in your textbook html.\n",
    "\n",
    "Following this you should specify a title for the subsection by creating a markdown cell and creating an h1 text element:\n",
    "```\n",
    "# Title\n",
    "```\n",
    "\n",
    "After this, you are able to freely add either code cells or markdown cells and they will be displayed in the same way they appear in the ipynb file."
   ]
  },
  {
   "attachments": {},
   "cell_type": "markdown",
   "metadata": {},
   "source": [
    "## Special Displays\n",
    "\n",
    "### A sample image that use customized styles"
   ]
  },
  {
   "cell_type": "code",
   "execution_count": null,
   "metadata": {},
   "outputs": [],
   "source": [
    "display(Markdown(htmlFig(\"../images/src/sample-image.jpg\", \n",
    "              align=\"left\", \n",
    "              margin=\"auto 3em 0 auto\", \n",
    "              width=\"100%\", id=\"fig:vnm\", \n",
    "             caption=\"Figure: A Sample Image that use special style\")))\n",
    "\n"
   ]
  },
  {
   "attachments": {},
   "cell_type": "markdown",
   "metadata": {},
   "source": [
    "### Display string in customized styles"
   ]
  },
  {
   "cell_type": "code",
   "execution_count": null,
   "metadata": {},
   "outputs": [],
   "source": [
    "X=np.uint8(0xae)\n",
    "XL=np.bitwise_and(X,0xf)\n",
    "XH=np.bitwise_and(np.right_shift(X,4),0xf)"
   ]
  },
  {
   "cell_type": "code",
   "execution_count": null,
   "metadata": {},
   "outputs": [],
   "source": [
    "displayStr(\"0b10101110 = 0x\"+format(X,\"02X\"), size=\"4em\", align=\"center\")"
   ]
  },
  {
   "attachments": {},
   "cell_type": "markdown",
   "metadata": {},
   "source": [
    "### Display terminal shell command results"
   ]
  },
  {
   "cell_type": "code",
   "execution_count": null,
   "metadata": {},
   "outputs": [],
   "source": [
    "TermShellCmd('hello')"
   ]
  },
  {
   "attachments": {},
   "cell_type": "markdown",
   "metadata": {},
   "source": [
    "### Display bash command in customized styles"
   ]
  },
  {
   "cell_type": "code",
   "execution_count": null,
   "metadata": {},
   "outputs": [],
   "source": [
    "bash.run(\"man mkdir\", height=\"10em\")"
   ]
  },
  {
   "cell_type": "code",
   "execution_count": null,
   "metadata": {},
   "outputs": [],
   "source": [
    "del bash"
   ]
  },
  {
   "attachments": {},
   "cell_type": "markdown",
   "metadata": {},
   "source": [
    "### Use HTML and CSS to customize styles"
   ]
  },
  {
   "attachments": {},
   "cell_type": "markdown",
   "metadata": {},
   "source": [
    "This is the example of image overlapping with backgrounds.\n",
    "\n",
    ">  <img style=\"display: inline; margin: 1em auto auto auto;\" align=\"left\" width=\"60px\" src=\"../images/src/logo.png\"> <p style=\"background-color:powderblue;\"> \n",
    "    *This is some sample texts.*: This is some sample texts.This is some sample texts.This is some sample texts. This is some sample texts. This is some sample texts. This is some sample texts. This is some sample texts. This is some sample texts. This is some sample texts. This is some sample texts. This is some sample texts. This is some sample texts. This is some sample texts. This is some sample texts. This is some sample texts. This is some sample texts. This is some sample texts. This is some sample texts. This is some sample texts. This is some sample texts.\n",
    "    <img align=\"right\" width=\"60\" src=\"../images/src/logo.png\">\n",
    "</p>"
   ]
  },
  {
   "attachments": {},
   "cell_type": "markdown",
   "metadata": {},
   "source": [
    "## Example Slidedeck\n",
    "\n",
    "In this part of this book we will cover some cells that have special layouts in OPE RISE. It is recommended to verify the visual output using OPE RISE.\n",
    "\n",
    "The example slide deck is copied from the slide deck repo. Please make sure to sync with the source. If there's any misalignment with the baseline, first refer to the slide deck repo to make sure the source code are the same.\n",
    "\n",
    "If there's still problems exist, feel free to open an issue in either the slide deck repo or this ope repo."
   ]
  },
  {
   "attachments": {},
   "cell_type": "markdown",
   "metadata": {},
   "source": [
    "## Blank\n",
    "\n",
    "**BODY**"
   ]
  },
  {
   "attachments": {},
   "cell_type": "markdown",
   "metadata": {},
   "source": [
    "We will try to illustrate single-column slides like this one."
   ]
  },
  {
   "attachments": {},
   "cell_type": "markdown",
   "metadata": {},
   "source": [
    "**NOTE**"
   ]
  },
  {
   "attachments": {},
   "cell_type": "markdown",
   "metadata": {},
   "source": [
    "- a Note that will display in the notes view"
   ]
  },
  {
   "attachments": {},
   "cell_type": "markdown",
   "metadata": {},
   "source": [
    "## Image only "
   ]
  },
  {
   "attachments": {},
   "cell_type": "markdown",
   "metadata": {},
   "source": [
    "**BODY**"
   ]
  },
  {
   "attachments": {},
   "cell_type": "markdown",
   "metadata": {},
   "source": [
    "<img src=\"../images/src/sample-image.jpg\" width = \"100%\">"
   ]
  },
  {
   "attachments": {},
   "cell_type": "markdown",
   "metadata": {},
   "source": [
    "## Left Bullets and Image"
   ]
  },
  {
   "attachments": {},
   "cell_type": "markdown",
   "metadata": {},
   "source": [
    "# Title"
   ]
  },
  {
   "attachments": {},
   "cell_type": "markdown",
   "metadata": {},
   "source": [
    "**BODY**"
   ]
  },
  {
   "attachments": {},
   "cell_type": "markdown",
   "metadata": {},
   "source": [
    "<table>\n",
    "  <tr>\n",
    "\n",
    "   <td width=“100%“>\n",
    "         \n",
    "Here is a **left column**: \n",
    "- Something about figure\n",
    "- Something else about it\n",
    "- a long description\n",
    "          \n",
    "    </td>\n",
    "      <td>\n",
    "<img align=\"right\" src=\"../images/src/sample-image.jpg\">\n",
    "    </td>\n",
    "    </tr>\n",
    "</table>"
   ]
  },
  {
   "attachments": {},
   "cell_type": "markdown",
   "metadata": {},
   "source": [
    "**NOTE**"
   ]
  },
  {
   "attachments": {},
   "cell_type": "markdown",
   "metadata": {},
   "source": [
    "- A simple example that has bullets on left of figure while using markdown"
   ]
  },
  {
   "attachments": {},
   "cell_type": "markdown",
   "metadata": {},
   "source": [
    "## Right Bullets and Image"
   ]
  },
  {
   "attachments": {},
   "cell_type": "markdown",
   "metadata": {},
   "source": [
    "# Title"
   ]
  },
  {
   "attachments": {},
   "cell_type": "markdown",
   "metadata": {},
   "source": [
    "**BODY**"
   ]
  },
  {
   "attachments": {},
   "cell_type": "markdown",
   "metadata": {},
   "source": [
    "<table>\n",
    "<tr>\n",
    "   <td width=\"40%\">\n",
    "      <img  src=\"../images/src/sample-image.jpg\">\n",
    "    </td>\n",
    "   <td> \n",
    "\n",
    "Here is a **right column**: \n",
    "- Something about figure\n",
    "- Something else about it\n",
    "- a long description\n",
    "       \n",
    "    </td>\n",
    "</table> "
   ]
  },
  {
   "attachments": {},
   "cell_type": "markdown",
   "metadata": {},
   "source": [
    "**NOTE**"
   ]
  },
  {
   "attachments": {},
   "cell_type": "markdown",
   "metadata": {},
   "source": [
    "- A simple example that has texts on the right wrapping image on the left while using markdown"
   ]
  },
  {
   "attachments": {},
   "cell_type": "markdown",
   "metadata": {},
   "source": [
    "## Two Column Image"
   ]
  },
  {
   "attachments": {},
   "cell_type": "markdown",
   "metadata": {},
   "source": [
    "# Title"
   ]
  },
  {
   "attachments": {},
   "cell_type": "markdown",
   "metadata": {},
   "source": [
    "<table>\n",
    "<tr>\n",
    "   <td width=\"40%\">\n",
    "      <img  src=\"../images/src/sample-image.jpg\">\n",
    "    </td>\n",
    "   <td width=\"40%\">\n",
    "      <img  src=\"../images/src/sample-image.jpg\">\n",
    "    </td>\n",
    "<tr>\n",
    "   <td>\n",
    "\n",
    "       \n",
    "- Something about figure,or a long description\n",
    "    </td>\n",
    "    <td>\n",
    "\n",
    "        \n",
    "-Something about figure,or a long description\n",
    "    </td>\n",
    "</table>"
   ]
  },
  {
   "attachments": {},
   "cell_type": "markdown",
   "metadata": {},
   "source": [
    "**NOTE**"
   ]
  },
  {
   "attachments": {},
   "cell_type": "markdown",
   "metadata": {},
   "source": [
    "- Using a table to control % of slide for both parts with larger image"
   ]
  },
  {
   "attachments": {},
   "cell_type": "markdown",
   "metadata": {},
   "source": [
    "## Bullets"
   ]
  },
  {
   "attachments": {},
   "cell_type": "markdown",
   "metadata": {},
   "source": [
    "# Title"
   ]
  },
  {
   "attachments": {},
   "cell_type": "markdown",
   "metadata": {},
   "source": [
    "- **Bullet 1:** Something keypoints, and a long description\n",
    "\n",
    "- **Bullet 2:** Something keypoints, and a long description\n",
    "\n",
    "- **Bullet 3:** Something keypoints, and a long description\n",
    "\n",
    "- **Bullet 4:** Something keypoints, and a long description"
   ]
  },
  {
   "attachments": {},
   "cell_type": "markdown",
   "metadata": {},
   "source": [
    "**NOTE**"
   ]
  },
  {
   "attachments": {},
   "cell_type": "markdown",
   "metadata": {},
   "source": [
    "- a Note that will display in the notes view"
   ]
  },
  {
   "attachments": {},
   "cell_type": "markdown",
   "metadata": {},
   "source": [
    "## Two Column Bullets"
   ]
  },
  {
   "attachments": {},
   "cell_type": "markdown",
   "metadata": {},
   "source": [
    "# Title"
   ]
  },
  {
   "attachments": {},
   "cell_type": "markdown",
   "metadata": {},
   "source": [
    "<table>\n",
    "<tr>\n",
    "   <td>\n",
    "       \n",
    "       \n",
    "**Left Column:** \n",
    "- Bullet 1: Something keypoints, and a long description\n",
    "- Bullet 2: Something keypoints, and a long description\n",
    "- a long description, a long description,a long description, a long description, a long description, a long description, a long description, a long description, a long description, a long description, a long description\n",
    "    </td>\n",
    "   <td> \n",
    "\n",
    "       \n",
    "**Right Column:** \n",
    "- Bullet 1: Something keypoints, and a long description\n",
    "- Bullet 2: Something keypoints, and a long description\n",
    "- a long description, a long description, a long description, a long description, a long description, a long description, a long description, a long description, a long description, a long description, a long description\n",
    "     \n",
    "       \n",
    "    </td>\n",
    "</table> "
   ]
  },
  {
   "attachments": {},
   "cell_type": "markdown",
   "metadata": {},
   "source": [
    "**NOTE**"
   ]
  },
  {
   "attachments": {},
   "cell_type": "markdown",
   "metadata": {},
   "source": [
    "- Using a table to control % of slide for both parts"
   ]
  },
  {
   "attachments": {},
   "cell_type": "markdown",
   "metadata": {},
   "source": [
    "## Title Slide"
   ]
  },
  {
   "attachments": {},
   "cell_type": "markdown",
   "metadata": {},
   "source": [
    "# Title"
   ]
  },
  {
   "attachments": {},
   "cell_type": "markdown",
   "metadata": {},
   "source": [
    "**NOTE**"
   ]
  },
  {
   "attachments": {},
   "cell_type": "markdown",
   "metadata": {},
   "source": [
    "- a Note that will display in the notes view"
   ]
  },
  {
   "attachments": {},
   "cell_type": "markdown",
   "metadata": {},
   "source": [
    "This is the end of the document."
   ]
  }
 ],
 "metadata": {
  "kernelspec": {
   "display_name": ".venv",
   "language": "python",
   "name": "python3"
  },
  "language_info": {
   "codemirror_mode": {
    "name": "ipython",
    "version": 3
   },
   "file_extension": ".py",
   "mimetype": "text/x-python",
   "name": "python",
   "nbconvert_exporter": "python",
   "pygments_lexer": "ipython3",
   "version": "3.10.10"
  }
 },
 "nbformat": 4,
 "nbformat_minor": 2
}
