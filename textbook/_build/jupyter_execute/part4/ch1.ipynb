{
 "cells": [
  {
   "cell_type": "code",
   "execution_count": null,
   "id": "1c55352a",
   "metadata": {
    "tags": [
     "remove-cell"
    ]
   },
   "outputs": [],
   "source": [
    "%run -i ../python/common.py\n",
    "%run -i ../python/ln_preamble.py"
   ]
  },
  {
   "attachments": {},
   "cell_type": "markdown",
   "id": "19e9326c-3dee-4dd9-b3f7-c6d53bd6ac03",
   "metadata": {},
   "source": [
    "# Initial Setup"
   ]
  },
  {
   "attachments": {},
   "cell_type": "markdown",
   "id": "489f66a9",
   "metadata": {},
   "source": [
    "[This branch]() contains the base template that can be built upon in order to create a custom container image that contains all the software needed to follow along with the course/textbook. \n",
    "\n",
    "1. Choose the required base template i.e fedora or ubuntu based images. Clone the respective branch to your local\n",
    "repository.\n",
    "2. Update configurations related to target image registry, docker image tags etc. Add new layers to the Dockerfile to\n",
    "include additional libraries and other configurations to meet the requirements.\n",
    "- Configure the resulting builder image tag:\n",
    "Update the respective files in the base folder to tag your builder image. The format is like below.\n",
    "```\n",
    "ope_book_registry:private_user/ope_book/:stable-<CUST>\n",
    "quay.io/<user>/ope_book_fedora:stable-dev\n",
    "```\n",
    "- **Customizing image:**\n",
    "Customization includes all additional changes that are required in addition to the current image, to cater\n",
    "the requirements. It could be:\n",
    "    - Adding the additional system libraries\n",
    "    - New python libraries or updating the version of the current packages\n",
    "    - Enabling/disabling jupyter extensions\n",
    "    - Other configurations to the Dockerfile under stage-one or stage-two that best matches the need 3. Create new branches for every deploying environment like development, staging, test, production. Remember to\n",
    "update uid in the ope_uid file with that of the target environment user id.\n",
    "4. For any target environment say dev, build the docker image with the respective customization (CUST) option.\n",
    "make CUST=dev build\n",
    "This is start the docker image build and the final imagged will be tagged as:\n",
    "ope_book_registry:private_user/ope_book/:stable-<CUST>\n",
    "Export to docker image registries and make the repository publicly visible."
   ]
  }
 ],
 "metadata": {
  "kernelspec": {
   "display_name": "Python 3 (ipykernel)",
   "language": "python",
   "name": "python3"
  },
  "language_info": {
   "codemirror_mode": {
    "name": "ipython",
    "version": 3
   },
   "file_extension": ".py",
   "mimetype": "text/x-python",
   "name": "python",
   "nbconvert_exporter": "python",
   "pygments_lexer": "ipython3",
   "version": "3.10.10"
  }
 },
 "nbformat": 4,
 "nbformat_minor": 5
}
