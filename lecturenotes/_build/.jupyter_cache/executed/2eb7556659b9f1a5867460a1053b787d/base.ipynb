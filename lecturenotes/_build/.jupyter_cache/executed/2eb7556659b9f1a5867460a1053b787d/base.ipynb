{
 "cells": [],
 "metadata": {
  "celltoolbar": "Slideshow",
  "hide_input": true,
  "kernelspec": {
   "display_name": "Python 3 (ipykernel)",
   "language": "python",
   "name": "python3"
  },
  "language_info": {
   "codemirror_mode": {
    "name": "ipython",
    "version": 3
   },
   "file_extension": ".py",
   "mimetype": "text/x-python",
   "name": "python",
   "nbconvert_exporter": "python",
   "pygments_lexer": "ipython3",
   "version": "3.10.10"
  },
  "rise": {
   "enable_chalkboard": true,
   "height": "90%",
   "scroll": true,
   "start_slideshow_at": "selected",
   "transition": "none",
   "width": "90%"
  }
 },
 "nbformat": 4,
 "nbformat_minor": 5
}
