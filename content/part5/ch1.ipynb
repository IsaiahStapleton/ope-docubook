{
 "cells": [
  {
   "cell_type": "code",
   "execution_count": null,
   "id": "63d3cccf",
   "metadata": {
    "tags": [
     "remove-cell"
    ]
   },
   "outputs": [],
   "source": [
    "%run -i ../python/common.py"
   ]
  },
  {
   "attachments": {},
   "cell_type": "markdown",
   "id": "19e9326c-3dee-4dd9-b3f7-c6d53bd6ac03",
   "metadata": {},
   "source": [
    "# Future Work"
   ]
  },
  {
   "attachments": {},
   "cell_type": "markdown",
   "id": "ced895f3",
   "metadata": {},
   "source": [
    "## Command Line Interface Tool\n",
    "\n",
    "Red Hat intern Ke Li is currently working on a tool that will require no direct interactions with Make or Git. Using this tool, you will be able to easily create, update, manage, and publish OPE textbooks from the command line.\n",
    "\n",
    "## Fedora Based Container Image\n",
    "\n",
    "The current base OPE container image is based on Ubuntu. In the future the OPE team would like to also have a Fedora image, so that textbook authors are able to choose whether they would like the container to be Ubuntu or Fedora based."
   ]
  }
 ],
 "metadata": {
  "kernelspec": {
   "display_name": "Python 3 (ipykernel)",
   "language": "python",
   "name": "python3"
  },
  "language_info": {
   "codemirror_mode": {
    "name": "ipython",
    "version": 3
   },
   "file_extension": ".py",
   "mimetype": "text/x-python",
   "name": "python",
   "nbconvert_exporter": "python",
   "pygments_lexer": "ipython3",
   "version": "3.9.6"
  }
 },
 "nbformat": 4,
 "nbformat_minor": 5
}
