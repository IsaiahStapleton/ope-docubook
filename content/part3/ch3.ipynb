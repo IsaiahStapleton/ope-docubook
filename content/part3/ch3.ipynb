{
 "cells": [
  {
   "cell_type": "code",
   "execution_count": 7,
   "metadata": {
    "tags": [
     "remove-cell"
    ]
   },
   "outputs": [
    {
     "ename": "KeyboardInterrupt",
     "evalue": "",
     "output_type": "error",
     "traceback": [
      "\u001b[0;31m---------------------------------------------------------------------------\u001b[0m",
      "\u001b[0;31mKeyboardInterrupt\u001b[0m                         Traceback (most recent call last)",
      "Cell \u001b[0;32mIn[7], line 2\u001b[0m\n\u001b[1;32m      1\u001b[0m get_ipython()\u001b[39m.\u001b[39mrun_line_magic(\u001b[39m'\u001b[39m\u001b[39mrun\u001b[39m\u001b[39m'\u001b[39m, \u001b[39m'\u001b[39m\u001b[39m-i ../python/common.py\u001b[39m\u001b[39m'\u001b[39m)\n\u001b[0;32m----> 2\u001b[0m bash \u001b[39m=\u001b[39m BashSession()\n",
      "File \u001b[0;32m~/ope-docubook/content/python/common.py:860\u001b[0m, in \u001b[0;36mBashSession.__init__\u001b[0;34m(self, **kwargs)\u001b[0m\n\u001b[1;32m    859\u001b[0m \u001b[39mdef\u001b[39;00m \u001b[39m__init__\u001b[39m(\u001b[39mself\u001b[39m, \u001b[39m*\u001b[39m\u001b[39m*\u001b[39mkwargs):\n\u001b[0;32m--> 860\u001b[0m     \u001b[39mself\u001b[39m\u001b[39m.\u001b[39msession \u001b[39m=\u001b[39m bashSessionOpen(\u001b[39m*\u001b[39;49m\u001b[39m*\u001b[39;49mkwargs)\n\u001b[1;32m    861\u001b[0m     \u001b[39m# turn off tab completion\u001b[39;00m\n\u001b[1;32m    862\u001b[0m     \u001b[39mself\u001b[39m\u001b[39m.\u001b[39mrunNoOutput(\u001b[39m\"\u001b[39m\u001b[39mbind \u001b[39m\u001b[39m'\u001b[39m\u001b[39mset disable-completion on\u001b[39m\u001b[39m'\u001b[39m\u001b[39m\"\u001b[39m, ignoreoutput\u001b[39m=\u001b[39m\u001b[39mTrue\u001b[39;00m)\n",
      "File \u001b[0;32m~/ope-docubook/content/python/common.py:850\u001b[0m, in \u001b[0;36mbashSessionOpen\u001b[0;34m(cwd, **kwargs)\u001b[0m\n\u001b[1;32m    849\u001b[0m \u001b[39mdef\u001b[39;00m \u001b[39mbashSessionOpen\u001b[39m(cwd\u001b[39m=\u001b[39mos\u001b[39m.\u001b[39mgetenv(\u001b[39m'\u001b[39m\u001b[39mHOME\u001b[39m\u001b[39m'\u001b[39m), \u001b[39m*\u001b[39m\u001b[39m*\u001b[39mkwargs):\n\u001b[0;32m--> 850\u001b[0m     _, session \u001b[39m=\u001b[39m bashSessionCmds(cmds\u001b[39m=\u001b[39;49m[], close\u001b[39m=\u001b[39;49m\u001b[39mFalse\u001b[39;49;00m, cwd\u001b[39m=\u001b[39;49mcwd, \u001b[39m*\u001b[39;49m\u001b[39m*\u001b[39;49mkwargs)\n\u001b[1;32m    851\u001b[0m     \u001b[39mreturn\u001b[39;00m session\n",
      "File \u001b[0;32m~/ope-docubook/content/python/common.py:794\u001b[0m, in \u001b[0;36mbashSessionCmds\u001b[0;34m(cmds, cwd, bufsize, wait, rows, cols, session, close, ignoreoutput, **kwargs)\u001b[0m\n\u001b[1;32m    791\u001b[0m     i\u001b[39m=\u001b[39mi\u001b[39m+\u001b[39m\u001b[39m1\u001b[39m \n\u001b[1;32m    793\u001b[0m \u001b[39mwhile\u001b[39;00m \u001b[39mTrue\u001b[39;00m:\n\u001b[0;32m--> 794\u001b[0m     read_fds,_,error_fds \u001b[39m=\u001b[39m select\u001b[39m.\u001b[39;49mselect([master],[],[master])  \n\u001b[1;32m    795\u001b[0m     \u001b[39mif\u001b[39;00m \u001b[39mlen\u001b[39m(error_fds):\n\u001b[1;32m    796\u001b[0m         kill \u001b[39m=\u001b[39m \u001b[39mTrue\u001b[39;00m;\n",
      "\u001b[0;31mKeyboardInterrupt\u001b[0m: "
     ]
    }
   ],
   "source": [
    "%run -i ../python/common.py\n",
    "bash = BashSession()"
   ]
  },
  {
   "attachments": {},
   "cell_type": "markdown",
   "metadata": {},
   "source": [
    "# Creating Content "
   ]
  },
  {
   "attachments": {},
   "cell_type": "markdown",
   "metadata": {},
   "source": [
    "Now that you understand the layout of the template, you are ready to start creating content for the textbook.\n",
    "\n",
    "As was mentioned previously the xx_toc.yml file is used to specify the files that contain the content of the book. It is recommended to use ipynb format, as that will allow you to utilize the full power of the textbook. At the top of every ipynb file, you should include a code cell with the following line: \n",
    "```\n",
    "%run -i ../python/common.py\n",
    "```\n",
    "This will enable powerful notebook functions such as: displaying a series of slide images, displaying html table, and displaying interactive terminal media player, just to name a few.\n",
    "\n",
    "Add cell tag: 'remove-cell', in order to not have this import cell displayed in your textbook html.\n",
    "\n",
    "Following this you should specify a title for the subsection by creating a markdown cell and creating an h1 text element:\n",
    "```\n",
    "# Title\n",
    "```\n",
    "\n",
    "After this, you are able to freely add either code cells or markdown cells and they will be displayed in the same way they appear in the ipynb file."
   ]
  },
  {
   "attachments": {},
   "cell_type": "markdown",
   "metadata": {},
   "source": [
    "## Special Displays\n",
    "\n",
    "### A sample image that use customized styles"
   ]
  },
  {
   "cell_type": "code",
   "execution_count": 4,
   "metadata": {},
   "outputs": [
    {
     "data": {
      "text/markdown": [
       "<!-- produced by: \n",
       "htmlFig(\"[{'src': '../images/src/sample-image.jpg'}]\", \n",
       "        id=\"fig:vnm\", \n",
       "        align=\"left\", \n",
       "        width=\"100%\",\n",
       "        margin=\"auto 3em 0 auto\",\n",
       "        caption=\"Figure: A Sample Image that use special style\", \n",
       "        captionalign=\"left\")\n",
       "-->\n",
       "<table id=\"fig:vnm\" align=\"left\" width=\"100%\" cellpadding=\"0\" cellspacing=\"0\" border=\"0\" style=\"border-collapse: collapse; margin: auto 3em 0 auto\">\n",
       "    <tr style=\"padding: 0; margin: 0;\"> \n",
       "        <td colspan=\"1\" width=\"100%\" style=\"padding: 0; margin: 0 0 0 0; background-color:inherit;\">\n",
       "            <div style=\"padding: 0; margin: 0 0 0 0;\">\n",
       "              <figure style=\"padding: 0; margin: 0 0 0 0; width:100%;\">\n",
       "                   <img src=\"../images/src/sample-image.jpg\" width=\"100%\" style=\"padding: 0; margin: 0;\">\n",
       "                </figure>\n",
       "            </div>\n",
       "        </td>\n",
       "    </tr>\n",
       "    <caption align=\"bottom\" style=\"text-align: left; padding: 0; margin: 0;\" >\n",
       "          <i>Figure: A Sample Image that use special style</i> \n",
       "    </caption>\n",
       "</table>\n"
      ],
      "text/plain": [
       "<IPython.core.display.Markdown object>"
      ]
     },
     "metadata": {},
     "output_type": "display_data"
    }
   ],
   "source": [
    "display(Markdown(htmlFig(\"../images/src/sample-image.jpg\", \n",
    "              align=\"left\", \n",
    "              margin=\"auto 3em 0 auto\", \n",
    "              width=\"100%\", id=\"fig:vnm\", \n",
    "             caption=\"Figure: A Sample Image that use special style\")))\n",
    "\n"
   ]
  },
  {
   "attachments": {},
   "cell_type": "markdown",
   "metadata": {},
   "source": [
    "### Display string in customized styles"
   ]
  },
  {
   "cell_type": "code",
   "execution_count": 5,
   "metadata": {},
   "outputs": [],
   "source": [
    "X=np.uint8(0xae)\n",
    "XL=np.bitwise_and(X,0xf)\n",
    "XH=np.bitwise_and(np.right_shift(X,4),0xf)"
   ]
  },
  {
   "cell_type": "code",
   "execution_count": 6,
   "metadata": {},
   "outputs": [
    {
     "data": {
      "text/markdown": [
       "<div style=\"font-size: 4em;\" align=\"center\">\n",
       "0b10101110 = 0xAE\n",
       "</div>"
      ],
      "text/plain": [
       "<IPython.core.display.Markdown object>"
      ]
     },
     "metadata": {},
     "output_type": "display_data"
    }
   ],
   "source": [
    "displayStr(\"0b10101110 = 0x\"+format(X,\"02X\"), size=\"4em\", align=\"center\")"
   ]
  },
  {
   "attachments": {},
   "cell_type": "markdown",
   "metadata": {},
   "source": [
    "### Display terminal shell command results"
   ]
  },
  {
   "cell_type": "code",
   "execution_count": null,
   "metadata": {},
   "outputs": [],
   "source": [
    "TermShellCmd('hello')"
   ]
  },
  {
   "attachments": {},
   "cell_type": "markdown",
   "metadata": {},
   "source": [
    "### Display bash command in customized styles"
   ]
  },
  {
   "cell_type": "code",
   "execution_count": null,
   "metadata": {},
   "outputs": [],
   "source": [
    "bash.run(\"man mkdir\", height=\"10em\")"
   ]
  },
  {
   "cell_type": "code",
   "execution_count": null,
   "metadata": {},
   "outputs": [],
   "source": [
    "del bash"
   ]
  },
  {
   "attachments": {},
   "cell_type": "markdown",
   "metadata": {},
   "source": [
    "### Use HTML and CSS to customize styles"
   ]
  },
  {
   "attachments": {},
   "cell_type": "markdown",
   "metadata": {},
   "source": [
    "This is the example of image overlapping with backgrounds.\n",
    "\n",
    ">  <img style=\"display: inline; margin: 1em auto auto auto;\" align=\"left\" width=\"60px\" src=\"../images/src/logo.png\"> <p style=\"background-color:powderblue;\"> \n",
    "    *This is some sample texts.*: This is some sample texts.This is some sample texts.This is some sample texts. This is some sample texts. This is some sample texts. This is some sample texts. This is some sample texts. This is some sample texts. This is some sample texts. This is some sample texts. This is some sample texts. This is some sample texts. This is some sample texts. This is some sample texts. This is some sample texts. This is some sample texts. This is some sample texts. This is some sample texts. This is some sample texts. This is some sample texts.\n",
    "    <img align=\"right\" width=\"60\" src=\"../images/src/logo.png\">\n",
    "</p>"
   ]
  },
  {
   "attachments": {},
   "cell_type": "markdown",
   "metadata": {},
   "source": [
    "## Example Slidedeck\n",
    "\n",
    "In this part of this book we will cover some cells that have special layouts in OPE RISE. It is recommended to verify the visual output using OPE RISE.\n",
    "\n",
    "The example slide deck is copied from the slide deck repo. Please make sure to sync with the source. If there's any misalignment with the baseline, first refer to the slide deck repo to make sure the source code are the same.\n",
    "\n",
    "If there's still problems exist, feel free to open an issue in either the slide deck repo or this ope repo."
   ]
  },
  {
   "attachments": {},
   "cell_type": "markdown",
   "metadata": {},
   "source": [
    "### Blank\n",
    "\n",
    "**BODY**"
   ]
  },
  {
   "attachments": {},
   "cell_type": "markdown",
   "metadata": {},
   "source": [
    "We will try to illustrate single-column slides like this one."
   ]
  },
  {
   "attachments": {},
   "cell_type": "markdown",
   "metadata": {},
   "source": [
    "**NOTE**"
   ]
  },
  {
   "attachments": {},
   "cell_type": "markdown",
   "metadata": {},
   "source": [
    "- a Note that will display in the notes view"
   ]
  },
  {
   "attachments": {},
   "cell_type": "markdown",
   "metadata": {},
   "source": [
    "### Image only "
   ]
  },
  {
   "attachments": {},
   "cell_type": "markdown",
   "metadata": {},
   "source": [
    "**BODY**"
   ]
  },
  {
   "attachments": {},
   "cell_type": "markdown",
   "metadata": {},
   "source": [
    "<img src=\"../images/src/sample-image.jpg\" width = \"100%\">"
   ]
  },
  {
   "attachments": {},
   "cell_type": "markdown",
   "metadata": {},
   "source": [
    "### Left Bullets and Image"
   ]
  },
  {
   "attachments": {},
   "cell_type": "markdown",
   "metadata": {},
   "source": [
    "**BODY**"
   ]
  },
  {
   "attachments": {},
   "cell_type": "markdown",
   "metadata": {},
   "source": [
    "<table>\n",
    "  <tr>\n",
    "\n",
    "   <td width=“100%“>\n",
    "         \n",
    "Here is a **left column**: \n",
    "- Something about figure\n",
    "- Something else about it\n",
    "- a long description\n",
    "          \n",
    "    </td>\n",
    "      <td>\n",
    "<img align=\"right\" src=\"../images/src/sample-image.jpg\">\n",
    "    </td>\n",
    "    </tr>\n",
    "</table>"
   ]
  },
  {
   "attachments": {},
   "cell_type": "markdown",
   "metadata": {},
   "source": [
    "**NOTE**"
   ]
  },
  {
   "attachments": {},
   "cell_type": "markdown",
   "metadata": {},
   "source": [
    "- A simple example that has bullets on left of figure while using markdown"
   ]
  },
  {
   "attachments": {},
   "cell_type": "markdown",
   "metadata": {},
   "source": [
    "### Right Bullets and Image"
   ]
  },
  {
   "attachments": {},
   "cell_type": "markdown",
   "metadata": {},
   "source": [
    "**BODY**"
   ]
  },
  {
   "attachments": {},
   "cell_type": "markdown",
   "metadata": {},
   "source": [
    "<table>\n",
    "<tr>\n",
    "   <td width=\"40%\">\n",
    "      <img  src=\"../images/src/sample-image.jpg\">\n",
    "    </td>\n",
    "   <td> \n",
    "\n",
    "Here is a **right column**: \n",
    "- Something about figure\n",
    "- Something else about it\n",
    "- a long description\n",
    "       \n",
    "    </td>\n",
    "</table> "
   ]
  },
  {
   "attachments": {},
   "cell_type": "markdown",
   "metadata": {},
   "source": [
    "**NOTE**"
   ]
  },
  {
   "attachments": {},
   "cell_type": "markdown",
   "metadata": {},
   "source": [
    "- A simple example that has texts on the right wrapping image on the left while using markdown"
   ]
  },
  {
   "attachments": {},
   "cell_type": "markdown",
   "metadata": {},
   "source": [
    "### Two Column Image"
   ]
  },
  {
   "attachments": {},
   "cell_type": "markdown",
   "metadata": {},
   "source": [
    "<table>\n",
    "<tr>\n",
    "   <td width=\"40%\">\n",
    "      <img  src=\"../images/src/sample-image.jpg\">\n",
    "    </td>\n",
    "   <td width=\"40%\">\n",
    "      <img  src=\"../images/src/sample-image.jpg\">\n",
    "    </td>\n",
    "<tr>\n",
    "   <td>\n",
    "\n",
    "       \n",
    "- Something about figure,or a long description\n",
    "    </td>\n",
    "    <td>\n",
    "\n",
    "        \n",
    "-Something about figure,or a long description\n",
    "    </td>\n",
    "</table>"
   ]
  },
  {
   "attachments": {},
   "cell_type": "markdown",
   "metadata": {},
   "source": [
    "**NOTE**"
   ]
  },
  {
   "attachments": {},
   "cell_type": "markdown",
   "metadata": {},
   "source": [
    "- Using a table to control % of slide for both parts with larger image"
   ]
  },
  {
   "attachments": {},
   "cell_type": "markdown",
   "metadata": {},
   "source": [
    "### Bullets"
   ]
  },
  {
   "attachments": {},
   "cell_type": "markdown",
   "metadata": {},
   "source": [
    "- **Bullet 1:** Something keypoints, and a long description\n",
    "\n",
    "- **Bullet 2:** Something keypoints, and a long description\n",
    "\n",
    "- **Bullet 3:** Something keypoints, and a long description\n",
    "\n",
    "- **Bullet 4:** Something keypoints, and a long description"
   ]
  },
  {
   "attachments": {},
   "cell_type": "markdown",
   "metadata": {},
   "source": [
    "**NOTE**"
   ]
  },
  {
   "attachments": {},
   "cell_type": "markdown",
   "metadata": {},
   "source": [
    "- a Note that will display in the notes view"
   ]
  },
  {
   "attachments": {},
   "cell_type": "markdown",
   "metadata": {},
   "source": [
    "### Two Column Bullets"
   ]
  },
  {
   "attachments": {},
   "cell_type": "markdown",
   "metadata": {},
   "source": [
    "<table>\n",
    "<tr>\n",
    "   <td>\n",
    "       \n",
    "       \n",
    "**Left Column:** \n",
    "- Bullet 1: Something keypoints, and a long description\n",
    "- Bullet 2: Something keypoints, and a long description\n",
    "- a long description, a long description,a long description, a long description, a long description, a long description, a long description, a long description, a long description, a long description, a long description\n",
    "    </td>\n",
    "   <td> \n",
    "\n",
    "       \n",
    "**Right Column:** \n",
    "- Bullet 1: Something keypoints, and a long description\n",
    "- Bullet 2: Something keypoints, and a long description\n",
    "- a long description, a long description, a long description, a long description, a long description, a long description, a long description, a long description, a long description, a long description, a long description\n",
    "     \n",
    "       \n",
    "    </td>\n",
    "</table> "
   ]
  },
  {
   "attachments": {},
   "cell_type": "markdown",
   "metadata": {},
   "source": [
    "**NOTE**"
   ]
  },
  {
   "attachments": {},
   "cell_type": "markdown",
   "metadata": {},
   "source": [
    "- Using a table to control % of slide for both parts"
   ]
  },
  {
   "attachments": {},
   "cell_type": "markdown",
   "metadata": {},
   "source": [
    "### Title Slide"
   ]
  },
  {
   "attachments": {},
   "cell_type": "markdown",
   "metadata": {},
   "source": [
    "**NOTE**"
   ]
  },
  {
   "attachments": {},
   "cell_type": "markdown",
   "metadata": {},
   "source": [
    "- a Note that will display in the notes view"
   ]
  },
  {
   "attachments": {},
   "cell_type": "markdown",
   "metadata": {},
   "source": [
    "This is the end of the document."
   ]
  },
  {
   "attachments": {},
   "cell_type": "markdown",
   "metadata": {},
   "source": [
    "## Animation Examples"
   ]
  },
  {
   "attachments": {},
   "cell_type": "markdown",
   "metadata": {},
   "source": [
    "In this part of this book we will cover some special animated cells.\n",
    "\n",
    "If there's any misalignment with the baseline, unless noted above the cell output, please refer to the called functions in `common.py` file."
   ]
  },
  {
   "attachments": {},
   "cell_type": "markdown",
   "metadata": {},
   "source": [
    "### Display bytes in speial styles"
   ]
  },
  {
   "cell_type": "code",
   "execution_count": null,
   "metadata": {},
   "outputs": [],
   "source": [
    "X=np.uint8(0xae)\n",
    "XL=np.bitwise_and(X,0xf)\n",
    "XH=np.bitwise_and(np.right_shift(X,4),0xf)"
   ]
  },
  {
   "cell_type": "code",
   "execution_count": null,
   "metadata": {},
   "outputs": [],
   "source": [
    "displayBytes([[0x00],[0xff]], labels=[\"ALL OFF\", \"ALL ON\"])"
   ]
  },
  {
   "cell_type": "code",
   "execution_count": null,
   "metadata": {},
   "outputs": [],
   "source": [
    "displayBytes(bytes=[[X]],td_font_size=\"2.5em\", th_font_size=\"1.5em\")"
   ]
  },
  {
   "attachments": {},
   "cell_type": "markdown",
   "metadata": {},
   "source": [
    "### Display series of slide images"
   ]
  },
  {
   "cell_type": "code",
   "execution_count": null,
   "metadata": {},
   "outputs": [],
   "source": [
    "display(mkImgsAnimateBox(dir=\"../images/imported_slides\",\n",
    "#                         force=True,\n",
    "                         saveto=\"save1.html\",\n",
    "    files=['General_Presentation_1.jpg',\n",
    "     'General_Presentation_2.jpg',\n",
    "     'General_Presentation_3.jpg',\n",
    "     'General_Presentation_4.jpg',\n",
    "     'General_Presentation_5.jpg',\n",
    "     'General_Presentation_6.jpg'\n",
    "          ]))"
   ]
  },
  {
   "attachments": {},
   "cell_type": "markdown",
   "metadata": {},
   "source": [
    "### Display HTML table"
   ]
  },
  {
   "attachments": {},
   "cell_type": "markdown",
   "metadata": {},
   "source": [
    "<a id=\"tbl:ctloperators\"></a>\n",
    "<center><em>Table Shell Control Operators</em></center>\n",
    "\n",
    "| Control Operator | Description    |\n",
    "| :--------------: | ------------- |\n",
    "|  newline   |  End of line |\n",
    "|      \\|\\|        |  Or list operator   |\n",
    "|      &&      |  And list operator  |\n",
    "|     ;          |  Sequential list operator |\n",
    "|     \\|          |  Pipe Operator |\n",
    "|     $\\&$         |  Background Operator | \n",
    "|    ( | Subshell list begin Operator |\n",
    "|    ) | Subshell list end Operator |\n",
    "|     ;; | Case statement end matching Operator |      \n",
    "|     ;& | Case statement fall through Operator |\n",
    "|     ;;& | Case statement continue matching Operator |"
   ]
  },
  {
   "cell_type": "code",
   "execution_count": null,
   "metadata": {},
   "outputs": [],
   "source": [
    "display(IFrame(\"https://en.wikipedia.org/wiki/List_of_Unix_commands\", height=600, width=\"100%\"))"
   ]
  },
  {
   "cell_type": "code",
   "execution_count": null,
   "metadata": {},
   "outputs": [],
   "source": [
    "display(HTML('''\n",
    "<iframe src=\"https://jappavoo.github.io/SOL6502/index.html\", height=\"980px\" width=\"100%\"></iframe>\n",
    "'''))"
   ]
  },
  {
   "cell_type": "code",
   "execution_count": null,
   "metadata": {},
   "outputs": [],
   "source": [
    "display(HTML('''\n",
    "<iframe src=\"https://jappavoo.github.io/SOL6502/asciinema/atest.html\", height=\"600x\" width=\"100%\"></iframe>\n",
    "'''))"
   ]
  }
 ],
 "metadata": {
  "kernelspec": {
   "display_name": ".venv",
   "language": "python",
   "name": "python3"
  },
  "language_info": {
   "codemirror_mode": {
    "name": "ipython",
    "version": 3
   },
   "file_extension": ".py",
   "mimetype": "text/x-python",
   "name": "python",
   "nbconvert_exporter": "python",
   "pygments_lexer": "ipython3",
   "version": "3.10.10"
  },
  "orig_nbformat": 4
 },
 "nbformat": 4,
 "nbformat_minor": 2
}
