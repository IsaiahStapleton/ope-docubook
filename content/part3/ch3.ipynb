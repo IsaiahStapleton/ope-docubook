{
 "cells": [
  {
   "cell_type": "code",
   "execution_count": null,
   "metadata": {
    "tags": [
     "remove-cell"
    ]
   },
   "outputs": [],
   "source": [
    "%run -i ../python/common.py"
   ]
  },
  {
   "attachments": {},
   "cell_type": "markdown",
   "metadata": {},
   "source": [
    "# Creating Content "
   ]
  },
  {
   "attachments": {},
   "cell_type": "markdown",
   "metadata": {},
   "source": [
    "Now that you understand the layout of the template, you are ready to start creating content for the textbook.\n",
    "\n",
    "As was mentioned previously the xx_toc.yml file is used to specify the files that contain the content of the book. It is recommended to use ipynb format, as that will allow you to utilize the full power of the textbook. At the top of every ipynb file, you should include a code cell with the following line: \n",
    "```\n",
    "%run -i ../python/common.py\n",
    "```\n",
    "This will enable powerful notebook functions such as: displaying a series of slide images, displaying html table, and displaying interactive terminal media player, just to name a few.\n",
    "\n",
    "Add cell tag: 'remove-cell', in order to not have this import cell displayed in your textbook html.\n",
    "\n",
    "Following this you should specify a title for the subsection by creating a markdown cell and creating an h1 text element:\n",
    "```\n",
    "# Title\n",
    "```\n",
    "\n",
    "After this, you are able to freely add either code cells or markdown cells and they will be displayed in the same way they appear in the ipynb file."
   ]
  }
 ],
 "metadata": {
  "language_info": {
   "name": "python"
  },
  "orig_nbformat": 4
 },
 "nbformat": 4,
 "nbformat_minor": 2
}
