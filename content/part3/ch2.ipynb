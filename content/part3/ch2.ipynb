{
 "cells": [
  {
   "cell_type": "code",
   "execution_count": null,
   "id": "c33431b3",
   "metadata": {
    "tags": [
     "remove-cell"
    ]
   },
   "outputs": [],
   "source": [
    "%run -i ../python/common.py"
   ]
  },
  {
   "attachments": {},
   "cell_type": "markdown",
   "id": "c03c5671",
   "metadata": {},
   "source": [
    "# Understanding Layout"
   ]
  },
  {
   "attachments": {},
   "cell_type": "markdown",
   "id": "a702aa73",
   "metadata": {},
   "source": [
    "Before you get started creating a new Textbook, you must familiarize yourself with the layout of the OPE template. There are three different parts of the OPE template:\n",
    "\n",
    "1. Textbook Content (tb)\n",
    "2. Lecture Notes (ln)\n",
    "3. Lab Manual (lm)\n",
    "\n",
    "The files associated with each will contain the two letters that appear in parenthesis above. For example, files associated with textbook content will have tb in the file name (such as tb_config.yml). Going forward in this guide, xx will be used to refer to a file that is not specific to any of the three, but rather all of them (such as xx_config.yml). \n",
    "\n",
    "## Important files\n",
    "\n",
    "- **Makefile:** The top level Makefile automates the tasks of building and publishing the book content. This includes the textbook, the lecture notes, and the lab manual. You can see a list of build targets by running the \"Make\" command in the same directory as the Makefile. \n",
    "\n",
    "- **xx_config.yml:** This config file is used to change book settings such as: title, author, logo, URL to publish to, and jupyter extensions you would like enabled, etc.\n",
    "\n",
    "- **xx_toc.yml:** This file is used to modify the different sections of the book. In the section labeled parts, you can add a new section by specifying it's caption (name of section), whether it is numbered or not, and then you may specify the different sub sections within that section by specifying the files associated with that subsections content. \n",
    "    - The caption name does not have to be the same name as the directory containing the content for that section (ex. part1 does not have to have the caption: 'part1')\n",
    "    - The basic layout for a section is as follows:\n",
    "    ```\n",
    "     - caption: 'Name of section'\n",
    "        numbered: true\n",
    "        chapters:\n",
    "        - file: directory/file\n",
    "    ```\n",
    "\n",
    "- **intro_xx.md:** This file is used to create the landing page for the textbook. The content within this file will be the first page displayed when accessing the textbook, lecture notes, or lab manual. "
   ]
  }
 ],
 "metadata": {
  "kernelspec": {
   "display_name": "Python 3 (ipykernel)",
   "language": "python",
   "name": "python3"
  },
  "language_info": {
   "codemirror_mode": {
    "name": "ipython",
    "version": 3
   },
   "file_extension": ".py",
   "mimetype": "text/x-python",
   "name": "python",
   "nbconvert_exporter": "python",
   "pygments_lexer": "ipython3",
   "version": "3.9.6"
  }
 },
 "nbformat": 4,
 "nbformat_minor": 5
}
