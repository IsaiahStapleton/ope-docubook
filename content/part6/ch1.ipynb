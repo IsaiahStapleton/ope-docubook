{
 "cells": [
  {
   "cell_type": "code",
   "execution_count": null,
   "id": "63d3cccf",
   "metadata": {
    "tags": [
     "remove-cell"
    ]
   },
   "outputs": [],
   "source": [
    "%run -i ../python/common.py"
   ]
  },
  {
   "attachments": {},
   "cell_type": "markdown",
   "id": "19e9326c-3dee-4dd9-b3f7-c6d53bd6ac03",
   "metadata": {},
   "source": [
    "# Textbooks\n",
    "\n",
    "The textbooks in the following list are OPE textbooks. Take a look at these for some inspiration."
   ]
  },
  {
   "attachments": {},
   "cell_type": "markdown",
   "id": "ced895f3",
   "metadata": {},
   "source": [
    "## UndertheCovers\n",
    "\n",
    "- [Repositry](https://github.com/jappavoo/UndertheCovers)\n",
    "- [Textbook](https://jappavoo.github.io/UndertheCovers/textbook/intro_tb.html)\n",
    "- [Lecture Notes](https://jappavoo.github.io/UndertheCovers/lecturenotes/intro_ln.html)\n",
    "- [Lab Manual](https://jappavoo.github.io/UndertheCovers/labmanual/intro_lm.html) \n"
   ]
  }
 ],
 "metadata": {
  "kernelspec": {
   "display_name": "Python 3 (ipykernel)",
   "language": "python",
   "name": "python3"
  },
  "language_info": {
   "codemirror_mode": {
    "name": "ipython",
    "version": 3
   },
   "file_extension": ".py",
   "mimetype": "text/x-python",
   "name": "python",
   "nbconvert_exporter": "python",
   "pygments_lexer": "ipython3",
   "version": "3.9.6"
  }
 },
 "nbformat": 4,
 "nbformat_minor": 5
}
